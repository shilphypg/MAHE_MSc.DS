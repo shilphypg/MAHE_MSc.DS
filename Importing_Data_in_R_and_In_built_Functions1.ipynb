{
  "nbformat": 4,
  "nbformat_minor": 0,
  "metadata": {
    "kernelspec": {
      "display_name": "R",
      "language": "R",
      "name": "ir"
    },
    "language_info": {
      "codemirror_mode": "r",
      "file_extension": ".r",
      "mimetype": "text/x-r-source",
      "name": "R",
      "pygments_lexer": "r",
      "version": "3.3.1"
    },
    "colab": {
      "provenance": [],
      "include_colab_link": true
    }
  },
  "cells": [
    {
      "cell_type": "markdown",
      "metadata": {
        "id": "view-in-github",
        "colab_type": "text"
      },
      "source": [
        "<a href=\"https://colab.research.google.com/github/shilphypg/MAHE_MSc.DS/blob/master/Importing_Data_in_R_and_In_built_Functions1.ipynb\" target=\"_parent\"><img src=\"https://colab.research.google.com/assets/colab-badge.svg\" alt=\"Open In Colab\"/></a>"
      ]
    },
    {
      "cell_type": "markdown",
      "source": [
        "Reading data from a file"
      ],
      "metadata": {
        "id": "kmFfOFrWhvAL"
      }
    },
    {
      "cell_type": "code",
      "source": [
        "#file = 'http://openmv.net/file/food-texture.csv'\n",
        "file = '/content/food-texture.csv'\n",
        "foodData = read.csv(file, header = TRUE, row.names = 1, stringsAsFactors = FALSE)"
      ],
      "metadata": {
        "id": "l7I8PczhiE1x"
      },
      "execution_count": 2,
      "outputs": []
    },
    {
      "cell_type": "markdown",
      "source": [
        "In-built functions on the data frame that has been read"
      ],
      "metadata": {
        "id": "YeM2UDaHj6k2"
      }
    },
    {
      "cell_type": "code",
      "source": [
        "# Get dimension\n",
        "dim(foodData)\n",
        "\n",
        "# Get number of rows and columns\n",
        "nrow(foodData)\n",
        "ncol(foodData)\n",
        "\n",
        "# Structure of the data frame\n",
        "str(foodData)\n",
        "\n",
        "# In-built functions that can applied to columns of a data frame\n",
        "mean(foodData$Density)\n",
        "mean(foodData[['Density']])\n",
        "mean(foodData['Density']) # this returns the dataframe, so no meaning in taking the average\n",
        "apply(foodData, 2, mean) # 2 refers to column by column\n",
        "apply(foodData[c('Oil', 'Density')], 2 , mean)"
      ],
      "metadata": {
        "id": "gUWmEsqpj_9R",
        "colab": {
          "base_uri": "https://localhost:8080/",
          "height": 318
        },
        "outputId": "f1fe101c-235a-4a63-d544-3e40cf7fb68f"
      },
      "execution_count": 5,
      "outputs": [
        {
          "output_type": "display_data",
          "data": {
            "text/html": [
              "<style>\n",
              ".list-inline {list-style: none; margin:0; padding: 0}\n",
              ".list-inline>li {display: inline-block}\n",
              ".list-inline>li:not(:last-child)::after {content: \"\\00b7\"; padding: 0 .5ex}\n",
              "</style>\n",
              "<ol class=list-inline><li>50</li><li>5</li></ol>\n"
            ],
            "text/markdown": "1. 50\n2. 5\n\n\n",
            "text/latex": "\\begin{enumerate*}\n\\item 50\n\\item 5\n\\end{enumerate*}\n",
            "text/plain": [
              "[1] 50  5"
            ]
          },
          "metadata": {}
        },
        {
          "output_type": "display_data",
          "data": {
            "text/html": [
              "50"
            ],
            "text/markdown": "50",
            "text/latex": "50",
            "text/plain": [
              "[1] 50"
            ]
          },
          "metadata": {}
        },
        {
          "output_type": "display_data",
          "data": {
            "text/html": [
              "5"
            ],
            "text/markdown": "5",
            "text/latex": "5",
            "text/plain": [
              "[1] 5"
            ]
          },
          "metadata": {}
        },
        {
          "output_type": "stream",
          "name": "stdout",
          "text": [
            "'data.frame':\t50 obs. of  5 variables:\n",
            " $ Oil     : num  16.5 17.7 16.2 16.7 16.3 19.1 18.4 17.5 15.7 16.4 ...\n",
            " $ Density : int  2955 2660 2870 2920 2975 2790 2750 2770 2955 2945 ...\n",
            " $ Crispy  : int  10 14 12 10 11 13 13 10 11 11 ...\n",
            " $ Fracture: int  23 9 17 31 26 16 17 26 23 24 ...\n",
            " $ Hardness: int  97 139 143 95 143 189 114 63 123 132 ...\n"
          ]
        },
        {
          "output_type": "display_data",
          "data": {
            "text/html": [
              "2857.6"
            ],
            "text/markdown": "2857.6",
            "text/latex": "2857.6",
            "text/plain": [
              "[1] 2857.6"
            ]
          },
          "metadata": {}
        },
        {
          "output_type": "display_data",
          "data": {
            "text/html": [
              "2857.6"
            ],
            "text/markdown": "2857.6",
            "text/latex": "2857.6",
            "text/plain": [
              "[1] 2857.6"
            ]
          },
          "metadata": {}
        },
        {
          "output_type": "stream",
          "name": "stderr",
          "text": [
            "Warning message in mean.default(foodData[\"Density\"]):\n",
            "“argument is not numeric or logical: returning NA”\n"
          ]
        },
        {
          "output_type": "display_data",
          "data": {
            "text/html": [
              "&lt;NA&gt;"
            ],
            "text/markdown": "&lt;NA&gt;",
            "text/latex": "<NA>",
            "text/plain": [
              "[1] NA"
            ]
          },
          "metadata": {}
        },
        {
          "output_type": "display_data",
          "data": {
            "text/html": [
              "<style>\n",
              ".dl-inline {width: auto; margin:0; padding: 0}\n",
              ".dl-inline>dt, .dl-inline>dd {float: none; width: auto; display: inline-block}\n",
              ".dl-inline>dt::after {content: \":\\0020\"; padding-right: .5ex}\n",
              ".dl-inline>dt:not(:first-of-type) {padding-left: .5ex}\n",
              "</style><dl class=dl-inline><dt>Oil</dt><dd>17.202</dd><dt>Density</dt><dd>2857.6</dd><dt>Crispy</dt><dd>11.52</dd><dt>Fracture</dt><dd>20.86</dd><dt>Hardness</dt><dd>128.18</dd></dl>\n"
            ],
            "text/markdown": "Oil\n:   17.202Density\n:   2857.6Crispy\n:   11.52Fracture\n:   20.86Hardness\n:   128.18\n\n",
            "text/latex": "\\begin{description*}\n\\item[Oil] 17.202\n\\item[Density] 2857.6\n\\item[Crispy] 11.52\n\\item[Fracture] 20.86\n\\item[Hardness] 128.18\n\\end{description*}\n",
            "text/plain": [
              "     Oil  Density   Crispy Fracture Hardness \n",
              "  17.202 2857.600   11.520   20.860  128.180 "
            ]
          },
          "metadata": {}
        },
        {
          "output_type": "display_data",
          "data": {
            "text/html": [
              "<style>\n",
              ".dl-inline {width: auto; margin:0; padding: 0}\n",
              ".dl-inline>dt, .dl-inline>dd {float: none; width: auto; display: inline-block}\n",
              ".dl-inline>dt::after {content: \":\\0020\"; padding-right: .5ex}\n",
              ".dl-inline>dt:not(:first-of-type) {padding-left: .5ex}\n",
              "</style><dl class=dl-inline><dt>Oil</dt><dd>17.202</dd><dt>Density</dt><dd>2857.6</dd></dl>\n"
            ],
            "text/markdown": "Oil\n:   17.202Density\n:   2857.6\n\n",
            "text/latex": "\\begin{description*}\n\\item[Oil] 17.202\n\\item[Density] 2857.6\n\\end{description*}\n",
            "text/plain": [
              "     Oil  Density \n",
              "  17.202 2857.600 "
            ]
          },
          "metadata": {}
        }
      ]
    },
    {
      "cell_type": "code",
      "source": [],
      "metadata": {
        "id": "52mA3g_kVkdu"
      },
      "execution_count": null,
      "outputs": []
    }
  ]
}