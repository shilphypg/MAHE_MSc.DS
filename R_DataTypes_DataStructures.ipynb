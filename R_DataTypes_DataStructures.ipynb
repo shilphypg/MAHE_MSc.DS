{
  "nbformat": 4,
  "nbformat_minor": 0,
  "metadata": {
    "kernelspec": {
      "display_name": "R",
      "language": "R",
      "name": "ir"
    },
    "language_info": {
      "codemirror_mode": "r",
      "file_extension": ".r",
      "mimetype": "text/x-r-source",
      "name": "R",
      "pygments_lexer": "r",
      "version": "3.3.1"
    },
    "colab": {
      "provenance": [],
      "include_colab_link": true
    }
  },
  "cells": [
    {
      "cell_type": "markdown",
      "metadata": {
        "id": "view-in-github",
        "colab_type": "text"
      },
      "source": [
        "<a href=\"https://colab.research.google.com/github/shilphypg/MAHE_MSc.DS/blob/master/R_DataTypes_DataStructures.ipynb\" target=\"_parent\"><img src=\"https://colab.research.google.com/assets/colab-badge.svg\" alt=\"Open In Colab\"/></a>"
      ]
    },
    {
      "cell_type": "markdown",
      "source": [
        "Everything in R is an object\n",
        "Basic datatypes in R\n",
        "1. Character\n",
        "2. Numeric(real or decimal)\n",
        "3. Integer\n",
        "4. Logical\n",
        "5. Complex"
      ],
      "metadata": {
        "id": "G0J7F5kG-i4H"
      }
    },
    {
      "cell_type": "code",
      "source": [
        "#create an R object\n",
        "my_obj=48"
      ],
      "metadata": {
        "id": "0wGXiqsqULdr"
      },
      "execution_count": null,
      "outputs": []
    },
    {
      "cell_type": "code",
      "source": [
        "my_char='a'\n",
        "print(my_char)"
      ],
      "metadata": {
        "colab": {
          "base_uri": "https://localhost:8080/"
        },
        "id": "gQ5rq1vkU2hT",
        "outputId": "13280453-805b-4436-9234-1d0e235dcade"
      },
      "execution_count": null,
      "outputs": [
        {
          "output_type": "stream",
          "name": "stdout",
          "text": [
            "[1] \"a\"\n"
          ]
        }
      ]
    },
    {
      "cell_type": "code",
      "source": [
        "my_int=10L\n",
        "print(my_int)"
      ],
      "metadata": {
        "colab": {
          "base_uri": "https://localhost:8080/"
        },
        "id": "RZsJLaIEVQ-l",
        "outputId": "47f1a382-729c-4752-db5a-7ee549852b00"
      },
      "execution_count": 1,
      "outputs": [
        {
          "output_type": "stream",
          "name": "stdout",
          "text": [
            "[1] 10\n"
          ]
        }
      ]
    },
    {
      "cell_type": "code",
      "source": [
        "my_int=10L\n",
        "print(my_int)\n",
        "\n",
        "my_numeric=10\n",
        "print(my_numeric)\n",
        "\n",
        "my_logic=TRUE\n",
        "print(my_logic)"
      ],
      "metadata": {
        "colab": {
          "base_uri": "https://localhost:8080/"
        },
        "id": "xQiEt0wnVWlh",
        "outputId": "a8f0c22c-30a0-4b0a-e932-ef869541a108"
      },
      "execution_count": 4,
      "outputs": [
        {
          "output_type": "stream",
          "name": "stdout",
          "text": [
            "[1] 10\n",
            "[1] 10\n",
            "[1] TRUE\n"
          ]
        }
      ]
    },
    {
      "cell_type": "markdown",
      "source": [
        "Data structures in R\n",
        "1. Atomic Vector\n",
        "2. List\n",
        "3. Matrix\n",
        "4. Dataframe\n",
        "5. Factor\n"
      ],
      "metadata": {
        "id": "hEkNzhcT_qRc"
      }
    },
    {
      "cell_type": "markdown",
      "source": [
        "\n",
        "ATOMIC VECTOR DATA STRUCTURE is a collection of object having same data types"
      ],
      "metadata": {
        "id": "MTAbkA3sCwoh"
      }
    },
    {
      "cell_type": "code",
      "source": [
        "#create a vector\n",
        "my_vec1=c(1L,2L,3L)\n",
        "my_vec2=1:3\n",
        "my_vec3=seq(from=1,to=10,by=2) #seq function generates a floating point values\n",
        "print(my_vec1)\n",
        "print(my_vec2)\n",
        "print(my_vec3)\n",
        "\n",
        "#functions on objects\n",
        "length(my_vec1)\n",
        "class(my_vec1)\n",
        "class(my_vec2)\n",
        "class(my_vec3)\n",
        "typeof(my_vec3)\n",
        "typeof(my_vec2)\n",
        "str(my_vec3)\n",
        "\n",
        "#access elements of a vector\n",
        "my_vec1[1]\n",
        "\n",
        "#modify elements of a vector\n",
        "my_vec1[1]=10\n",
        "print(my_vec1)\n",
        "\n",
        "#inbuilt functions on a vector\n",
        "\n",
        "#missing data\n",
        "my_vec4=c(1,2,NA,4)\n",
        "print(my_vec4)\n",
        "is.na(my_vec4)\n",
        "anyNA(my_vec4) #any missing values\n",
        "\n",
        "\n",
        "#special values\n",
        "1/0\n",
        "0/0\n"
      ],
      "metadata": {
        "colab": {
          "base_uri": "https://localhost:8080/",
          "height": 317
        },
        "id": "PSoh4YLbV_Kt",
        "outputId": "44465acd-f0d4-4c0e-99b2-8f1ee289a326"
      },
      "execution_count": 20,
      "outputs": [
        {
          "output_type": "stream",
          "name": "stdout",
          "text": [
            "[1] 1 2 3\n",
            "[1] 1 2 3\n",
            "[1] 1 3 5 7 9\n"
          ]
        },
        {
          "output_type": "display_data",
          "data": {
            "text/html": [
              "3"
            ],
            "text/markdown": "3",
            "text/latex": "3",
            "text/plain": [
              "[1] 3"
            ]
          },
          "metadata": {}
        },
        {
          "output_type": "display_data",
          "data": {
            "text/html": [
              "'integer'"
            ],
            "text/markdown": "'integer'",
            "text/latex": "'integer'",
            "text/plain": [
              "[1] \"integer\""
            ]
          },
          "metadata": {}
        },
        {
          "output_type": "display_data",
          "data": {
            "text/html": [
              "'integer'"
            ],
            "text/markdown": "'integer'",
            "text/latex": "'integer'",
            "text/plain": [
              "[1] \"integer\""
            ]
          },
          "metadata": {}
        },
        {
          "output_type": "display_data",
          "data": {
            "text/html": [
              "'numeric'"
            ],
            "text/markdown": "'numeric'",
            "text/latex": "'numeric'",
            "text/plain": [
              "[1] \"numeric\""
            ]
          },
          "metadata": {}
        },
        {
          "output_type": "display_data",
          "data": {
            "text/html": [
              "'double'"
            ],
            "text/markdown": "'double'",
            "text/latex": "'double'",
            "text/plain": [
              "[1] \"double\""
            ]
          },
          "metadata": {}
        },
        {
          "output_type": "display_data",
          "data": {
            "text/html": [
              "'integer'"
            ],
            "text/markdown": "'integer'",
            "text/latex": "'integer'",
            "text/plain": [
              "[1] \"integer\""
            ]
          },
          "metadata": {}
        },
        {
          "output_type": "stream",
          "name": "stdout",
          "text": [
            " num [1:5] 1 3 5 7 9\n"
          ]
        },
        {
          "output_type": "display_data",
          "data": {
            "text/html": [
              "1"
            ],
            "text/markdown": "1",
            "text/latex": "1",
            "text/plain": [
              "[1] 1"
            ]
          },
          "metadata": {}
        },
        {
          "output_type": "stream",
          "name": "stdout",
          "text": [
            "[1] 10  2  3\n",
            "[1]  1  2 NA  4\n"
          ]
        },
        {
          "output_type": "display_data",
          "data": {
            "text/html": [
              "<style>\n",
              ".list-inline {list-style: none; margin:0; padding: 0}\n",
              ".list-inline>li {display: inline-block}\n",
              ".list-inline>li:not(:last-child)::after {content: \"\\00b7\"; padding: 0 .5ex}\n",
              "</style>\n",
              "<ol class=list-inline><li>FALSE</li><li>FALSE</li><li>TRUE</li><li>FALSE</li></ol>\n"
            ],
            "text/markdown": "1. FALSE\n2. FALSE\n3. TRUE\n4. FALSE\n\n\n",
            "text/latex": "\\begin{enumerate*}\n\\item FALSE\n\\item FALSE\n\\item TRUE\n\\item FALSE\n\\end{enumerate*}\n",
            "text/plain": [
              "[1] FALSE FALSE  TRUE FALSE"
            ]
          },
          "metadata": {}
        },
        {
          "output_type": "display_data",
          "data": {
            "text/html": [
              "TRUE"
            ],
            "text/markdown": "TRUE",
            "text/latex": "TRUE",
            "text/plain": [
              "[1] TRUE"
            ]
          },
          "metadata": {}
        },
        {
          "output_type": "display_data",
          "data": {
            "text/html": [
              "Inf"
            ],
            "text/markdown": "Inf",
            "text/latex": "Inf",
            "text/plain": [
              "[1] Inf"
            ]
          },
          "metadata": {}
        },
        {
          "output_type": "display_data",
          "data": {
            "text/html": [
              "NaN"
            ],
            "text/markdown": "NaN",
            "text/latex": "NaN",
            "text/plain": [
              "[1] NaN"
            ]
          },
          "metadata": {}
        }
      ]
    },
    {
      "cell_type": "markdown",
      "source": [
        "LIST DATA STRUCTURE very similar to a vector like collection of simple objects but they can be of different data types"
      ],
      "metadata": {
        "id": "qqZXxVWlDBhD"
      }
    },
    {
      "cell_type": "code",
      "source": [
        "my_list1=list(5)\n",
        "print(my_list1)\n",
        "\n",
        "\n",
        "#create a list with values\n",
        "my_list2=list(1, 'serah', c('a','b','c'))\n",
        "print(my_list2)\n",
        "\n",
        "\n",
        "#assign names to the slot of list\n",
        "names(my_list2)=c('first', 'second', 'third')\n",
        "str(my_list2)\n",
        "\n",
        "\n",
        "#access elements of a list\n",
        "my_list2[3]\n",
        "my_list2$first\n",
        "\n",
        "#modify the elements of a list\n",
        "my_list2[1]=10\n",
        "print(my_list2)"
      ],
      "metadata": {
        "colab": {
          "base_uri": "https://localhost:8080/",
          "height": 523
        },
        "outputId": "4ad6d09e-62b1-471f-98b6-eb4e9b90d7f2",
        "id": "ylawBytNCid1"
      },
      "execution_count": 23,
      "outputs": [
        {
          "output_type": "stream",
          "name": "stdout",
          "text": [
            "[[1]]\n",
            "[1] 5\n",
            "\n",
            "[[1]]\n",
            "[1] 1\n",
            "\n",
            "[[2]]\n",
            "[1] \"serah\"\n",
            "\n",
            "[[3]]\n",
            "[1] \"a\" \"b\" \"c\"\n",
            "\n",
            "List of 3\n",
            " $ first : num 1\n",
            " $ second: chr \"serah\"\n",
            " $ third : chr [1:3] \"a\" \"b\" \"c\"\n"
          ]
        },
        {
          "output_type": "display_data",
          "data": {
            "text/html": [
              "<strong>$third</strong> = <style>\n",
              ".list-inline {list-style: none; margin:0; padding: 0}\n",
              ".list-inline>li {display: inline-block}\n",
              ".list-inline>li:not(:last-child)::after {content: \"\\00b7\"; padding: 0 .5ex}\n",
              "</style>\n",
              "<ol class=list-inline><li>'a'</li><li>'b'</li><li>'c'</li></ol>\n"
            ],
            "text/markdown": "**$third** = 1. 'a'\n2. 'b'\n3. 'c'\n\n\n",
            "text/latex": "\\textbf{\\$third} = \\begin{enumerate*}\n\\item 'a'\n\\item 'b'\n\\item 'c'\n\\end{enumerate*}\n",
            "text/plain": [
              "$third\n",
              "[1] \"a\" \"b\" \"c\"\n"
            ]
          },
          "metadata": {}
        },
        {
          "output_type": "display_data",
          "data": {
            "text/html": [
              "1"
            ],
            "text/markdown": "1",
            "text/latex": "1",
            "text/plain": [
              "[1] 1"
            ]
          },
          "metadata": {}
        },
        {
          "output_type": "stream",
          "name": "stdout",
          "text": [
            "$first\n",
            "[1] 10\n",
            "\n",
            "$second\n",
            "[1] \"serah\"\n",
            "\n",
            "$third\n",
            "[1] \"a\" \"b\" \"c\"\n",
            "\n"
          ]
        }
      ]
    },
    {
      "cell_type": "markdown",
      "source": [
        "MATRIX DATA STRUCTURE is a tabular arrangement of objects of same data type.same as atomic vector but it can be one or two dimections\n"
      ],
      "metadata": {
        "id": "b4yQlI6BEBDS"
      }
    },
    {
      "cell_type": "code",
      "source": [
        "#create a matrix\n",
        "my_matrix1=matrix(c(1,2,3,4,5,6), nrow = 3, ncol =2)\n",
        "print(my_matrix1)\n",
        "\n",
        "my_matrix2=matrix(c(1 ,2 ,3 ,4 ,5 ,6 ), nrow=2, ncol=3, byrow= TRUE)\n",
        "print(my_matrix2)\n",
        "\n",
        "\n",
        "#assign names to rows and columns\n",
        "rownames(my_matrix2)=c('row1','row2')\n",
        "colnames(my_matrix2)=c('col1','col2','col3')\n",
        "str(my_matrix2)"
      ],
      "metadata": {
        "colab": {
          "base_uri": "https://localhost:8080/"
        },
        "id": "-m2jlQy7DlYY",
        "outputId": "5d7358fc-a6be-4285-bcaa-298626ba3e49"
      },
      "execution_count": 24,
      "outputs": [
        {
          "output_type": "stream",
          "name": "stdout",
          "text": [
            "     [,1] [,2]\n",
            "[1,]    1    4\n",
            "[2,]    2    5\n",
            "[3,]    3    6\n",
            "     [,1] [,2] [,3]\n",
            "[1,]    1    2    3\n",
            "[2,]    4    5    6\n",
            " num [1:2, 1:3] 1 4 2 5 3 6\n",
            " - attr(*, \"dimnames\")=List of 2\n",
            "  ..$ : chr [1:2] \"row1\" \"row2\"\n",
            "  ..$ : chr [1:3] \"col1\" \"col2\" \"col3\"\n"
          ]
        }
      ]
    },
    {
      "cell_type": "markdown",
      "source": [
        "A Data Frame is a list with each sublist of same length; think of it as a rectangular list.A data frame is typically used to store data that are read from text/CSV files by retaining the underlying structures such as row names,column names etc. A data frame can also be created manually."
      ],
      "metadata": {
        "id": "otV3UrtIFpLl"
      }
    },
    {
      "cell_type": "code",
      "source": [
        "#create a dataframe manually\n",
        "ID=c('A','B','C')\n",
        "Age=c(21,22,20)\n",
        "Height=c(150,160,170)\n",
        "sData=data.frame(ID,Age,Height)\n",
        "\n",
        "#Assign names to the rows and columns of the data frame\n",
        "rownames(sData)=c('Ajith','John','Bob')\n",
        "colnames(sData)=c('ID','Age','Height')"
      ],
      "metadata": {
        "id": "eS3igxiPEuLp"
      },
      "execution_count": 26,
      "outputs": []
    },
    {
      "cell_type": "markdown",
      "source": [
        "In-built functions on dataframe"
      ],
      "metadata": {
        "id": "DDZO1XRAHYPx"
      }
    },
    {
      "cell_type": "code",
      "source": [
        "#structure of the data frame\n",
        "str(sData)\n",
        "\n",
        "#Print 1st five rows\n",
        "head(sData)\n",
        "\n",
        "#print last five rows\n",
        "tail(sData)\n",
        "\n",
        "#get the dimention of the dataframe\n",
        "dim(sData)\n",
        "\n",
        "#get the rows of the data frame\n",
        "nrow(sData)\n",
        "\n",
        "#get the columns of the data frame\n",
        "ncol(sData)\n"
      ],
      "metadata": {
        "colab": {
          "base_uri": "https://localhost:8080/",
          "height": 491
        },
        "id": "0PpOoaPOG55S",
        "outputId": "70292983-af1f-40bd-aab7-c28dcaac6c0b"
      },
      "execution_count": 34,
      "outputs": [
        {
          "output_type": "stream",
          "name": "stdout",
          "text": [
            "'data.frame':\t3 obs. of  3 variables:\n",
            " $ ID    : chr  \"A\" \"B\" \"C\"\n",
            " $ Age   : num  21 22 20\n",
            " $ Height: num  150 160 170\n"
          ]
        },
        {
          "output_type": "display_data",
          "data": {
            "text/html": [
              "<table class=\"dataframe\">\n",
              "<caption>A data.frame: 3 × 3</caption>\n",
              "<thead>\n",
              "\t<tr><th></th><th scope=col>ID</th><th scope=col>Age</th><th scope=col>Height</th></tr>\n",
              "\t<tr><th></th><th scope=col>&lt;chr&gt;</th><th scope=col>&lt;dbl&gt;</th><th scope=col>&lt;dbl&gt;</th></tr>\n",
              "</thead>\n",
              "<tbody>\n",
              "\t<tr><th scope=row>Ajith</th><td>A</td><td>21</td><td>150</td></tr>\n",
              "\t<tr><th scope=row>John</th><td>B</td><td>22</td><td>160</td></tr>\n",
              "\t<tr><th scope=row>Bob</th><td>C</td><td>20</td><td>170</td></tr>\n",
              "</tbody>\n",
              "</table>\n"
            ],
            "text/markdown": "\nA data.frame: 3 × 3\n\n| <!--/--> | ID &lt;chr&gt; | Age &lt;dbl&gt; | Height &lt;dbl&gt; |\n|---|---|---|---|\n| Ajith | A | 21 | 150 |\n| John | B | 22 | 160 |\n| Bob | C | 20 | 170 |\n\n",
            "text/latex": "A data.frame: 3 × 3\n\\begin{tabular}{r|lll}\n  & ID & Age & Height\\\\\n  & <chr> & <dbl> & <dbl>\\\\\n\\hline\n\tAjith & A & 21 & 150\\\\\n\tJohn & B & 22 & 160\\\\\n\tBob & C & 20 & 170\\\\\n\\end{tabular}\n",
            "text/plain": [
              "      ID Age Height\n",
              "Ajith A  21  150   \n",
              "John  B  22  160   \n",
              "Bob   C  20  170   "
            ]
          },
          "metadata": {}
        },
        {
          "output_type": "display_data",
          "data": {
            "text/html": [
              "<table class=\"dataframe\">\n",
              "<caption>A data.frame: 3 × 3</caption>\n",
              "<thead>\n",
              "\t<tr><th></th><th scope=col>ID</th><th scope=col>Age</th><th scope=col>Height</th></tr>\n",
              "\t<tr><th></th><th scope=col>&lt;chr&gt;</th><th scope=col>&lt;dbl&gt;</th><th scope=col>&lt;dbl&gt;</th></tr>\n",
              "</thead>\n",
              "<tbody>\n",
              "\t<tr><th scope=row>Ajith</th><td>A</td><td>21</td><td>150</td></tr>\n",
              "\t<tr><th scope=row>John</th><td>B</td><td>22</td><td>160</td></tr>\n",
              "\t<tr><th scope=row>Bob</th><td>C</td><td>20</td><td>170</td></tr>\n",
              "</tbody>\n",
              "</table>\n"
            ],
            "text/markdown": "\nA data.frame: 3 × 3\n\n| <!--/--> | ID &lt;chr&gt; | Age &lt;dbl&gt; | Height &lt;dbl&gt; |\n|---|---|---|---|\n| Ajith | A | 21 | 150 |\n| John | B | 22 | 160 |\n| Bob | C | 20 | 170 |\n\n",
            "text/latex": "A data.frame: 3 × 3\n\\begin{tabular}{r|lll}\n  & ID & Age & Height\\\\\n  & <chr> & <dbl> & <dbl>\\\\\n\\hline\n\tAjith & A & 21 & 150\\\\\n\tJohn & B & 22 & 160\\\\\n\tBob & C & 20 & 170\\\\\n\\end{tabular}\n",
            "text/plain": [
              "      ID Age Height\n",
              "Ajith A  21  150   \n",
              "John  B  22  160   \n",
              "Bob   C  20  170   "
            ]
          },
          "metadata": {}
        },
        {
          "output_type": "display_data",
          "data": {
            "text/html": [
              "<style>\n",
              ".list-inline {list-style: none; margin:0; padding: 0}\n",
              ".list-inline>li {display: inline-block}\n",
              ".list-inline>li:not(:last-child)::after {content: \"\\00b7\"; padding: 0 .5ex}\n",
              "</style>\n",
              "<ol class=list-inline><li>3</li><li>3</li></ol>\n"
            ],
            "text/markdown": "1. 3\n2. 3\n\n\n",
            "text/latex": "\\begin{enumerate*}\n\\item 3\n\\item 3\n\\end{enumerate*}\n",
            "text/plain": [
              "[1] 3 3"
            ]
          },
          "metadata": {}
        },
        {
          "output_type": "display_data",
          "data": {
            "text/html": [
              "3"
            ],
            "text/markdown": "3",
            "text/latex": "3",
            "text/plain": [
              "[1] 3"
            ]
          },
          "metadata": {}
        },
        {
          "output_type": "display_data",
          "data": {
            "text/html": [
              "3"
            ],
            "text/markdown": "3",
            "text/latex": "3",
            "text/plain": [
              "[1] 3"
            ]
          },
          "metadata": {}
        }
      ]
    },
    {
      "cell_type": "markdown",
      "source": [
        "Accessing elements of a dataframe"
      ],
      "metadata": {
        "id": "NXjoLKA7Jfh5"
      }
    },
    {
      "cell_type": "code",
      "source": [
        "#Access a particular column\n",
        "sData$Age\n",
        "sData[['Age']]\n",
        "sData['Age']\n",
        "\n",
        "#Access a particular row\n",
        "sData['John', ]\n",
        "sData['Bob', ]\n",
        "sData['Ajith', ]\n",
        "\n",
        "#Access multiple columns\n",
        "sData[c('ID','Age')]"
      ],
      "metadata": {
        "colab": {
          "base_uri": "https://localhost:8080/",
          "height": 755
        },
        "id": "mlpnfUfFHkwp",
        "outputId": "bc348cef-c972-44a2-8598-b5cc4481b62b"
      },
      "execution_count": 43,
      "outputs": [
        {
          "output_type": "display_data",
          "data": {
            "text/html": [
              "<style>\n",
              ".list-inline {list-style: none; margin:0; padding: 0}\n",
              ".list-inline>li {display: inline-block}\n",
              ".list-inline>li:not(:last-child)::after {content: \"\\00b7\"; padding: 0 .5ex}\n",
              "</style>\n",
              "<ol class=list-inline><li>21</li><li>22</li><li>20</li></ol>\n"
            ],
            "text/markdown": "1. 21\n2. 22\n3. 20\n\n\n",
            "text/latex": "\\begin{enumerate*}\n\\item 21\n\\item 22\n\\item 20\n\\end{enumerate*}\n",
            "text/plain": [
              "[1] 21 22 20"
            ]
          },
          "metadata": {}
        },
        {
          "output_type": "display_data",
          "data": {
            "text/html": [
              "<style>\n",
              ".list-inline {list-style: none; margin:0; padding: 0}\n",
              ".list-inline>li {display: inline-block}\n",
              ".list-inline>li:not(:last-child)::after {content: \"\\00b7\"; padding: 0 .5ex}\n",
              "</style>\n",
              "<ol class=list-inline><li>21</li><li>22</li><li>20</li></ol>\n"
            ],
            "text/markdown": "1. 21\n2. 22\n3. 20\n\n\n",
            "text/latex": "\\begin{enumerate*}\n\\item 21\n\\item 22\n\\item 20\n\\end{enumerate*}\n",
            "text/plain": [
              "[1] 21 22 20"
            ]
          },
          "metadata": {}
        },
        {
          "output_type": "display_data",
          "data": {
            "text/html": [
              "<table class=\"dataframe\">\n",
              "<caption>A data.frame: 3 × 1</caption>\n",
              "<thead>\n",
              "\t<tr><th></th><th scope=col>Age</th></tr>\n",
              "\t<tr><th></th><th scope=col>&lt;dbl&gt;</th></tr>\n",
              "</thead>\n",
              "<tbody>\n",
              "\t<tr><th scope=row>Ajith</th><td>21</td></tr>\n",
              "\t<tr><th scope=row>John</th><td>22</td></tr>\n",
              "\t<tr><th scope=row>Bob</th><td>20</td></tr>\n",
              "</tbody>\n",
              "</table>\n"
            ],
            "text/markdown": "\nA data.frame: 3 × 1\n\n| <!--/--> | Age &lt;dbl&gt; |\n|---|---|\n| Ajith | 21 |\n| John | 22 |\n| Bob | 20 |\n\n",
            "text/latex": "A data.frame: 3 × 1\n\\begin{tabular}{r|l}\n  & Age\\\\\n  & <dbl>\\\\\n\\hline\n\tAjith & 21\\\\\n\tJohn & 22\\\\\n\tBob & 20\\\\\n\\end{tabular}\n",
            "text/plain": [
              "      Age\n",
              "Ajith 21 \n",
              "John  22 \n",
              "Bob   20 "
            ]
          },
          "metadata": {}
        },
        {
          "output_type": "display_data",
          "data": {
            "text/html": [
              "<table class=\"dataframe\">\n",
              "<caption>A data.frame: 1 × 3</caption>\n",
              "<thead>\n",
              "\t<tr><th></th><th scope=col>ID</th><th scope=col>Age</th><th scope=col>Height</th></tr>\n",
              "\t<tr><th></th><th scope=col>&lt;chr&gt;</th><th scope=col>&lt;dbl&gt;</th><th scope=col>&lt;dbl&gt;</th></tr>\n",
              "</thead>\n",
              "<tbody>\n",
              "\t<tr><th scope=row>John</th><td>B</td><td>22</td><td>160</td></tr>\n",
              "</tbody>\n",
              "</table>\n"
            ],
            "text/markdown": "\nA data.frame: 1 × 3\n\n| <!--/--> | ID &lt;chr&gt; | Age &lt;dbl&gt; | Height &lt;dbl&gt; |\n|---|---|---|---|\n| John | B | 22 | 160 |\n\n",
            "text/latex": "A data.frame: 1 × 3\n\\begin{tabular}{r|lll}\n  & ID & Age & Height\\\\\n  & <chr> & <dbl> & <dbl>\\\\\n\\hline\n\tJohn & B & 22 & 160\\\\\n\\end{tabular}\n",
            "text/plain": [
              "     ID Age Height\n",
              "John B  22  160   "
            ]
          },
          "metadata": {}
        },
        {
          "output_type": "display_data",
          "data": {
            "text/html": [
              "<table class=\"dataframe\">\n",
              "<caption>A data.frame: 1 × 3</caption>\n",
              "<thead>\n",
              "\t<tr><th></th><th scope=col>ID</th><th scope=col>Age</th><th scope=col>Height</th></tr>\n",
              "\t<tr><th></th><th scope=col>&lt;chr&gt;</th><th scope=col>&lt;dbl&gt;</th><th scope=col>&lt;dbl&gt;</th></tr>\n",
              "</thead>\n",
              "<tbody>\n",
              "\t<tr><th scope=row>Bob</th><td>C</td><td>20</td><td>170</td></tr>\n",
              "</tbody>\n",
              "</table>\n"
            ],
            "text/markdown": "\nA data.frame: 1 × 3\n\n| <!--/--> | ID &lt;chr&gt; | Age &lt;dbl&gt; | Height &lt;dbl&gt; |\n|---|---|---|---|\n| Bob | C | 20 | 170 |\n\n",
            "text/latex": "A data.frame: 1 × 3\n\\begin{tabular}{r|lll}\n  & ID & Age & Height\\\\\n  & <chr> & <dbl> & <dbl>\\\\\n\\hline\n\tBob & C & 20 & 170\\\\\n\\end{tabular}\n",
            "text/plain": [
              "    ID Age Height\n",
              "Bob C  20  170   "
            ]
          },
          "metadata": {}
        },
        {
          "output_type": "display_data",
          "data": {
            "text/html": [
              "<table class=\"dataframe\">\n",
              "<caption>A data.frame: 1 × 3</caption>\n",
              "<thead>\n",
              "\t<tr><th></th><th scope=col>ID</th><th scope=col>Age</th><th scope=col>Height</th></tr>\n",
              "\t<tr><th></th><th scope=col>&lt;chr&gt;</th><th scope=col>&lt;dbl&gt;</th><th scope=col>&lt;dbl&gt;</th></tr>\n",
              "</thead>\n",
              "<tbody>\n",
              "\t<tr><th scope=row>Ajith</th><td>A</td><td>21</td><td>150</td></tr>\n",
              "</tbody>\n",
              "</table>\n"
            ],
            "text/markdown": "\nA data.frame: 1 × 3\n\n| <!--/--> | ID &lt;chr&gt; | Age &lt;dbl&gt; | Height &lt;dbl&gt; |\n|---|---|---|---|\n| Ajith | A | 21 | 150 |\n\n",
            "text/latex": "A data.frame: 1 × 3\n\\begin{tabular}{r|lll}\n  & ID & Age & Height\\\\\n  & <chr> & <dbl> & <dbl>\\\\\n\\hline\n\tAjith & A & 21 & 150\\\\\n\\end{tabular}\n",
            "text/plain": [
              "      ID Age Height\n",
              "Ajith A  21  150   "
            ]
          },
          "metadata": {}
        },
        {
          "output_type": "display_data",
          "data": {
            "text/html": [
              "<table class=\"dataframe\">\n",
              "<caption>A data.frame: 3 × 2</caption>\n",
              "<thead>\n",
              "\t<tr><th></th><th scope=col>ID</th><th scope=col>Age</th></tr>\n",
              "\t<tr><th></th><th scope=col>&lt;chr&gt;</th><th scope=col>&lt;dbl&gt;</th></tr>\n",
              "</thead>\n",
              "<tbody>\n",
              "\t<tr><th scope=row>Ajith</th><td>A</td><td>21</td></tr>\n",
              "\t<tr><th scope=row>John</th><td>B</td><td>22</td></tr>\n",
              "\t<tr><th scope=row>Bob</th><td>C</td><td>20</td></tr>\n",
              "</tbody>\n",
              "</table>\n"
            ],
            "text/markdown": "\nA data.frame: 3 × 2\n\n| <!--/--> | ID &lt;chr&gt; | Age &lt;dbl&gt; |\n|---|---|---|\n| Ajith | A | 21 |\n| John | B | 22 |\n| Bob | C | 20 |\n\n",
            "text/latex": "A data.frame: 3 × 2\n\\begin{tabular}{r|ll}\n  & ID & Age\\\\\n  & <chr> & <dbl>\\\\\n\\hline\n\tAjith & A & 21\\\\\n\tJohn & B & 22\\\\\n\tBob & C & 20\\\\\n\\end{tabular}\n",
            "text/plain": [
              "      ID Age\n",
              "Ajith A  21 \n",
              "John  B  22 \n",
              "Bob   C  20 "
            ]
          },
          "metadata": {}
        }
      ]
    },
    {
      "cell_type": "markdown",
      "source": [
        "A factor data structure is a vector that can contain only predefined values, and is used to store categorical data"
      ],
      "metadata": {
        "id": "CurFSa0cNvCI"
      }
    },
    {
      "cell_type": "code",
      "source": [
        "# Craete a factor for storing a list of genders\n",
        "gender=factor(c('Male','Male','Female','Female'))\n",
        "print(gender)\n",
        "\n",
        "#In-built functions on factors\n",
        "levels(gender)\n",
        "\n",
        "#Modify a gender\n",
        "gender[1]='Female'\n",
        "print(gender)"
      ],
      "metadata": {
        "colab": {
          "base_uri": "https://localhost:8080/",
          "height": 107
        },
        "id": "GAdkciPSMd96",
        "outputId": "5e58eac1-5d06-484f-8998-60ecbbdac93a"
      },
      "execution_count": 46,
      "outputs": [
        {
          "output_type": "stream",
          "name": "stdout",
          "text": [
            "[1] Male   Male   Female Female\n",
            "Levels: Female Male\n"
          ]
        },
        {
          "output_type": "display_data",
          "data": {
            "text/html": [
              "<style>\n",
              ".list-inline {list-style: none; margin:0; padding: 0}\n",
              ".list-inline>li {display: inline-block}\n",
              ".list-inline>li:not(:last-child)::after {content: \"\\00b7\"; padding: 0 .5ex}\n",
              "</style>\n",
              "<ol class=list-inline><li>'Female'</li><li>'Male'</li></ol>\n"
            ],
            "text/markdown": "1. 'Female'\n2. 'Male'\n\n\n",
            "text/latex": "\\begin{enumerate*}\n\\item 'Female'\n\\item 'Male'\n\\end{enumerate*}\n",
            "text/plain": [
              "[1] \"Female\" \"Male\"  "
            ]
          },
          "metadata": {}
        },
        {
          "output_type": "stream",
          "name": "stdout",
          "text": [
            "[1] Female Male   Female Female\n",
            "Levels: Female Male\n"
          ]
        }
      ]
    },
    {
      "cell_type": "code",
      "source": [],
      "metadata": {
        "id": "yZhJI8LCOX71"
      },
      "execution_count": null,
      "outputs": []
    }
  ]
}